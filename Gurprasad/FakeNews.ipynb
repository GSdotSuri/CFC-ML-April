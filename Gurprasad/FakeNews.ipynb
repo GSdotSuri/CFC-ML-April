{
  "nbformat": 4,
  "nbformat_minor": 5,
  "metadata": {
    "kernelspec": {
      "display_name": "Python 3",
      "language": "python",
      "name": "python3"
    },
    "language_info": {
      "codemirror_mode": {
        "name": "ipython",
        "version": 3
      },
      "file_extension": ".py",
      "mimetype": "text/x-python",
      "name": "python",
      "nbconvert_exporter": "python",
      "pygments_lexer": "ipython3",
      "version": "3.8.6"
    },
    "colab": {
      "name": "FakeNews.ipynb",
      "provenance": []
    }
  },
  "cells": [
    {
      "cell_type": "code",
      "metadata": {
        "id": "2bb00509"
      },
      "source": [
        "import numpy as np\n",
        "import pandas as pd"
      ],
      "id": "2bb00509",
      "execution_count": 1,
      "outputs": []
    },
    {
      "cell_type": "code",
      "metadata": {
        "colab": {
          "base_uri": "https://localhost:8080/"
        },
        "id": "Rjcd3KHsuV0G",
        "outputId": "9b23e5e4-9981-40c8-fe13-b9cd3e8be5af"
      },
      "source": [
        "from google.colab import drive\n",
        "drive.mount('/content/drive/')"
      ],
      "id": "Rjcd3KHsuV0G",
      "execution_count": 2,
      "outputs": [
        {
          "output_type": "stream",
          "text": [
            "Drive already mounted at /content/drive/; to attempt to forcibly remount, call drive.mount(\"/content/drive/\", force_remount=True).\n"
          ],
          "name": "stdout"
        }
      ]
    },
    {
      "cell_type": "code",
      "metadata": {
        "id": "13aa65b9"
      },
      "source": [
        "df1 = pd.read_csv('/content/drive/MyDrive/data/FalseTrainData.csv')"
      ],
      "id": "13aa65b9",
      "execution_count": 3,
      "outputs": []
    },
    {
      "cell_type": "code",
      "metadata": {
        "colab": {
          "base_uri": "https://localhost:8080/",
          "height": 310
        },
        "id": "c342a85c",
        "outputId": "675417d3-84a4-4bef-8faf-6610220b1acc"
      },
      "source": [
        "df1.head()"
      ],
      "id": "c342a85c",
      "execution_count": 4,
      "outputs": [
        {
          "output_type": "execute_result",
          "data": {
            "text/html": [
              "<div>\n",
              "<style scoped>\n",
              "    .dataframe tbody tr th:only-of-type {\n",
              "        vertical-align: middle;\n",
              "    }\n",
              "\n",
              "    .dataframe tbody tr th {\n",
              "        vertical-align: top;\n",
              "    }\n",
              "\n",
              "    .dataframe thead th {\n",
              "        text-align: right;\n",
              "    }\n",
              "</style>\n",
              "<table border=\"1\" class=\"dataframe\">\n",
              "  <thead>\n",
              "    <tr style=\"text-align: right;\">\n",
              "      <th></th>\n",
              "      <th>Unnamed: 0</th>\n",
              "      <th>title</th>\n",
              "      <th>text</th>\n",
              "      <th>subject</th>\n",
              "      <th>date</th>\n",
              "    </tr>\n",
              "  </thead>\n",
              "  <tbody>\n",
              "    <tr>\n",
              "      <th>0</th>\n",
              "      <td>0</td>\n",
              "      <td>Donald Trump Sends Out Embarrassing New Year’...</td>\n",
              "      <td>Donald Trump just couldn t wish all Americans ...</td>\n",
              "      <td>News</td>\n",
              "      <td>December 31, 2017</td>\n",
              "    </tr>\n",
              "    <tr>\n",
              "      <th>1</th>\n",
              "      <td>1</td>\n",
              "      <td>Drunk Bragging Trump Staffer Started Russian ...</td>\n",
              "      <td>House Intelligence Committee Chairman Devin Nu...</td>\n",
              "      <td>News</td>\n",
              "      <td>December 31, 2017</td>\n",
              "    </tr>\n",
              "    <tr>\n",
              "      <th>2</th>\n",
              "      <td>2</td>\n",
              "      <td>Sheriff David Clarke Becomes An Internet Joke...</td>\n",
              "      <td>On Friday, it was revealed that former Milwauk...</td>\n",
              "      <td>News</td>\n",
              "      <td>December 30, 2017</td>\n",
              "    </tr>\n",
              "    <tr>\n",
              "      <th>3</th>\n",
              "      <td>3</td>\n",
              "      <td>Trump Is So Obsessed He Even Has Obama’s Name...</td>\n",
              "      <td>On Christmas day, Donald Trump announced that ...</td>\n",
              "      <td>News</td>\n",
              "      <td>December 29, 2017</td>\n",
              "    </tr>\n",
              "    <tr>\n",
              "      <th>4</th>\n",
              "      <td>4</td>\n",
              "      <td>Pope Francis Just Called Out Donald Trump Dur...</td>\n",
              "      <td>Pope Francis used his annual Christmas Day mes...</td>\n",
              "      <td>News</td>\n",
              "      <td>December 25, 2017</td>\n",
              "    </tr>\n",
              "  </tbody>\n",
              "</table>\n",
              "</div>"
            ],
            "text/plain": [
              "   Unnamed: 0  ...               date\n",
              "0           0  ...  December 31, 2017\n",
              "1           1  ...  December 31, 2017\n",
              "2           2  ...  December 30, 2017\n",
              "3           3  ...  December 29, 2017\n",
              "4           4  ...  December 25, 2017\n",
              "\n",
              "[5 rows x 5 columns]"
            ]
          },
          "metadata": {
            "tags": []
          },
          "execution_count": 4
        }
      ]
    },
    {
      "cell_type": "code",
      "metadata": {
        "id": "3a57f8a2"
      },
      "source": [
        "df1['output'] = [\"0\"]*df1.shape[0]"
      ],
      "id": "3a57f8a2",
      "execution_count": 5,
      "outputs": []
    },
    {
      "cell_type": "code",
      "metadata": {
        "colab": {
          "base_uri": "https://localhost:8080/"
        },
        "id": "96bae97b",
        "outputId": "8606ba1c-1711-4d7c-eee7-a8e65922d418"
      },
      "source": [
        "df1.pop('Unnamed: 0')"
      ],
      "id": "96bae97b",
      "execution_count": 6,
      "outputs": [
        {
          "output_type": "execute_result",
          "data": {
            "text/plain": [
              "0            0\n",
              "1            1\n",
              "2            2\n",
              "3            3\n",
              "4            4\n",
              "         ...  \n",
              "14995    14995\n",
              "14996    14996\n",
              "14997    14997\n",
              "14998    14998\n",
              "14999    14999\n",
              "Name: Unnamed: 0, Length: 15000, dtype: int64"
            ]
          },
          "metadata": {
            "tags": []
          },
          "execution_count": 6
        }
      ]
    },
    {
      "cell_type": "code",
      "metadata": {
        "colab": {
          "base_uri": "https://localhost:8080/",
          "height": 293
        },
        "id": "b678d3f1",
        "outputId": "192e312e-e3a1-4b20-9684-cc87c3e8e60f"
      },
      "source": [
        "df1.head()"
      ],
      "id": "b678d3f1",
      "execution_count": 7,
      "outputs": [
        {
          "output_type": "execute_result",
          "data": {
            "text/html": [
              "<div>\n",
              "<style scoped>\n",
              "    .dataframe tbody tr th:only-of-type {\n",
              "        vertical-align: middle;\n",
              "    }\n",
              "\n",
              "    .dataframe tbody tr th {\n",
              "        vertical-align: top;\n",
              "    }\n",
              "\n",
              "    .dataframe thead th {\n",
              "        text-align: right;\n",
              "    }\n",
              "</style>\n",
              "<table border=\"1\" class=\"dataframe\">\n",
              "  <thead>\n",
              "    <tr style=\"text-align: right;\">\n",
              "      <th></th>\n",
              "      <th>title</th>\n",
              "      <th>text</th>\n",
              "      <th>subject</th>\n",
              "      <th>date</th>\n",
              "      <th>output</th>\n",
              "    </tr>\n",
              "  </thead>\n",
              "  <tbody>\n",
              "    <tr>\n",
              "      <th>0</th>\n",
              "      <td>Donald Trump Sends Out Embarrassing New Year’...</td>\n",
              "      <td>Donald Trump just couldn t wish all Americans ...</td>\n",
              "      <td>News</td>\n",
              "      <td>December 31, 2017</td>\n",
              "      <td>0</td>\n",
              "    </tr>\n",
              "    <tr>\n",
              "      <th>1</th>\n",
              "      <td>Drunk Bragging Trump Staffer Started Russian ...</td>\n",
              "      <td>House Intelligence Committee Chairman Devin Nu...</td>\n",
              "      <td>News</td>\n",
              "      <td>December 31, 2017</td>\n",
              "      <td>0</td>\n",
              "    </tr>\n",
              "    <tr>\n",
              "      <th>2</th>\n",
              "      <td>Sheriff David Clarke Becomes An Internet Joke...</td>\n",
              "      <td>On Friday, it was revealed that former Milwauk...</td>\n",
              "      <td>News</td>\n",
              "      <td>December 30, 2017</td>\n",
              "      <td>0</td>\n",
              "    </tr>\n",
              "    <tr>\n",
              "      <th>3</th>\n",
              "      <td>Trump Is So Obsessed He Even Has Obama’s Name...</td>\n",
              "      <td>On Christmas day, Donald Trump announced that ...</td>\n",
              "      <td>News</td>\n",
              "      <td>December 29, 2017</td>\n",
              "      <td>0</td>\n",
              "    </tr>\n",
              "    <tr>\n",
              "      <th>4</th>\n",
              "      <td>Pope Francis Just Called Out Donald Trump Dur...</td>\n",
              "      <td>Pope Francis used his annual Christmas Day mes...</td>\n",
              "      <td>News</td>\n",
              "      <td>December 25, 2017</td>\n",
              "      <td>0</td>\n",
              "    </tr>\n",
              "  </tbody>\n",
              "</table>\n",
              "</div>"
            ],
            "text/plain": [
              "                                               title  ... output\n",
              "0   Donald Trump Sends Out Embarrassing New Year’...  ...      0\n",
              "1   Drunk Bragging Trump Staffer Started Russian ...  ...      0\n",
              "2   Sheriff David Clarke Becomes An Internet Joke...  ...      0\n",
              "3   Trump Is So Obsessed He Even Has Obama’s Name...  ...      0\n",
              "4   Pope Francis Just Called Out Donald Trump Dur...  ...      0\n",
              "\n",
              "[5 rows x 5 columns]"
            ]
          },
          "metadata": {
            "tags": []
          },
          "execution_count": 7
        }
      ]
    },
    {
      "cell_type": "code",
      "metadata": {
        "id": "7131218e"
      },
      "source": [
        "df2 = pd.read_csv('/content/drive/MyDrive/data/TrueTrainData.csv')"
      ],
      "id": "7131218e",
      "execution_count": 8,
      "outputs": []
    },
    {
      "cell_type": "code",
      "metadata": {
        "scrolled": true,
        "colab": {
          "base_uri": "https://localhost:8080/",
          "height": 310
        },
        "id": "e104f552",
        "outputId": "944817b4-8b81-43af-a70c-6cee92906342"
      },
      "source": [
        "df2.head()"
      ],
      "id": "e104f552",
      "execution_count": 9,
      "outputs": [
        {
          "output_type": "execute_result",
          "data": {
            "text/html": [
              "<div>\n",
              "<style scoped>\n",
              "    .dataframe tbody tr th:only-of-type {\n",
              "        vertical-align: middle;\n",
              "    }\n",
              "\n",
              "    .dataframe tbody tr th {\n",
              "        vertical-align: top;\n",
              "    }\n",
              "\n",
              "    .dataframe thead th {\n",
              "        text-align: right;\n",
              "    }\n",
              "</style>\n",
              "<table border=\"1\" class=\"dataframe\">\n",
              "  <thead>\n",
              "    <tr style=\"text-align: right;\">\n",
              "      <th></th>\n",
              "      <th>Unnamed: 0</th>\n",
              "      <th>title</th>\n",
              "      <th>text</th>\n",
              "      <th>subject</th>\n",
              "      <th>date</th>\n",
              "    </tr>\n",
              "  </thead>\n",
              "  <tbody>\n",
              "    <tr>\n",
              "      <th>0</th>\n",
              "      <td>0</td>\n",
              "      <td>As U.S. budget fight looms, Republicans flip t...</td>\n",
              "      <td>WASHINGTON (Reuters) - The head of a conservat...</td>\n",
              "      <td>politicsNews</td>\n",
              "      <td>December 31, 2017</td>\n",
              "    </tr>\n",
              "    <tr>\n",
              "      <th>1</th>\n",
              "      <td>1</td>\n",
              "      <td>U.S. military to accept transgender recruits o...</td>\n",
              "      <td>WASHINGTON (Reuters) - Transgender people will...</td>\n",
              "      <td>politicsNews</td>\n",
              "      <td>December 29, 2017</td>\n",
              "    </tr>\n",
              "    <tr>\n",
              "      <th>2</th>\n",
              "      <td>2</td>\n",
              "      <td>Senior U.S. Republican senator: 'Let Mr. Muell...</td>\n",
              "      <td>WASHINGTON (Reuters) - The special counsel inv...</td>\n",
              "      <td>politicsNews</td>\n",
              "      <td>December 31, 2017</td>\n",
              "    </tr>\n",
              "    <tr>\n",
              "      <th>3</th>\n",
              "      <td>3</td>\n",
              "      <td>FBI Russia probe helped by Australian diplomat...</td>\n",
              "      <td>WASHINGTON (Reuters) - Trump campaign adviser ...</td>\n",
              "      <td>politicsNews</td>\n",
              "      <td>December 30, 2017</td>\n",
              "    </tr>\n",
              "    <tr>\n",
              "      <th>4</th>\n",
              "      <td>4</td>\n",
              "      <td>Trump wants Postal Service to charge 'much mor...</td>\n",
              "      <td>SEATTLE/WASHINGTON (Reuters) - President Donal...</td>\n",
              "      <td>politicsNews</td>\n",
              "      <td>December 29, 2017</td>\n",
              "    </tr>\n",
              "  </tbody>\n",
              "</table>\n",
              "</div>"
            ],
            "text/plain": [
              "   Unnamed: 0  ...                date\n",
              "0           0  ...  December 31, 2017 \n",
              "1           1  ...  December 29, 2017 \n",
              "2           2  ...  December 31, 2017 \n",
              "3           3  ...  December 30, 2017 \n",
              "4           4  ...  December 29, 2017 \n",
              "\n",
              "[5 rows x 5 columns]"
            ]
          },
          "metadata": {
            "tags": []
          },
          "execution_count": 9
        }
      ]
    },
    {
      "cell_type": "code",
      "metadata": {
        "colab": {
          "base_uri": "https://localhost:8080/"
        },
        "id": "d2995954",
        "outputId": "90b4f5ea-f9db-4893-e474-7bb32e6f9a41"
      },
      "source": [
        "df2['output'] = [\"1\"]*df2.shape[0]\n",
        "df2.pop('Unnamed: 0')"
      ],
      "id": "d2995954",
      "execution_count": 10,
      "outputs": [
        {
          "output_type": "execute_result",
          "data": {
            "text/plain": [
              "0            0\n",
              "1            1\n",
              "2            2\n",
              "3            3\n",
              "4            4\n",
              "         ...  \n",
              "14995    14995\n",
              "14996    14996\n",
              "14997    14997\n",
              "14998    14998\n",
              "14999    14999\n",
              "Name: Unnamed: 0, Length: 15000, dtype: int64"
            ]
          },
          "metadata": {
            "tags": []
          },
          "execution_count": 10
        }
      ]
    },
    {
      "cell_type": "code",
      "metadata": {
        "colab": {
          "base_uri": "https://localhost:8080/",
          "height": 293
        },
        "id": "03d61ff7",
        "outputId": "8bacd751-8896-400e-d232-df6fbfd54d49"
      },
      "source": [
        "df2.head()"
      ],
      "id": "03d61ff7",
      "execution_count": 11,
      "outputs": [
        {
          "output_type": "execute_result",
          "data": {
            "text/html": [
              "<div>\n",
              "<style scoped>\n",
              "    .dataframe tbody tr th:only-of-type {\n",
              "        vertical-align: middle;\n",
              "    }\n",
              "\n",
              "    .dataframe tbody tr th {\n",
              "        vertical-align: top;\n",
              "    }\n",
              "\n",
              "    .dataframe thead th {\n",
              "        text-align: right;\n",
              "    }\n",
              "</style>\n",
              "<table border=\"1\" class=\"dataframe\">\n",
              "  <thead>\n",
              "    <tr style=\"text-align: right;\">\n",
              "      <th></th>\n",
              "      <th>title</th>\n",
              "      <th>text</th>\n",
              "      <th>subject</th>\n",
              "      <th>date</th>\n",
              "      <th>output</th>\n",
              "    </tr>\n",
              "  </thead>\n",
              "  <tbody>\n",
              "    <tr>\n",
              "      <th>0</th>\n",
              "      <td>As U.S. budget fight looms, Republicans flip t...</td>\n",
              "      <td>WASHINGTON (Reuters) - The head of a conservat...</td>\n",
              "      <td>politicsNews</td>\n",
              "      <td>December 31, 2017</td>\n",
              "      <td>1</td>\n",
              "    </tr>\n",
              "    <tr>\n",
              "      <th>1</th>\n",
              "      <td>U.S. military to accept transgender recruits o...</td>\n",
              "      <td>WASHINGTON (Reuters) - Transgender people will...</td>\n",
              "      <td>politicsNews</td>\n",
              "      <td>December 29, 2017</td>\n",
              "      <td>1</td>\n",
              "    </tr>\n",
              "    <tr>\n",
              "      <th>2</th>\n",
              "      <td>Senior U.S. Republican senator: 'Let Mr. Muell...</td>\n",
              "      <td>WASHINGTON (Reuters) - The special counsel inv...</td>\n",
              "      <td>politicsNews</td>\n",
              "      <td>December 31, 2017</td>\n",
              "      <td>1</td>\n",
              "    </tr>\n",
              "    <tr>\n",
              "      <th>3</th>\n",
              "      <td>FBI Russia probe helped by Australian diplomat...</td>\n",
              "      <td>WASHINGTON (Reuters) - Trump campaign adviser ...</td>\n",
              "      <td>politicsNews</td>\n",
              "      <td>December 30, 2017</td>\n",
              "      <td>1</td>\n",
              "    </tr>\n",
              "    <tr>\n",
              "      <th>4</th>\n",
              "      <td>Trump wants Postal Service to charge 'much mor...</td>\n",
              "      <td>SEATTLE/WASHINGTON (Reuters) - President Donal...</td>\n",
              "      <td>politicsNews</td>\n",
              "      <td>December 29, 2017</td>\n",
              "      <td>1</td>\n",
              "    </tr>\n",
              "  </tbody>\n",
              "</table>\n",
              "</div>"
            ],
            "text/plain": [
              "                                               title  ... output\n",
              "0  As U.S. budget fight looms, Republicans flip t...  ...      1\n",
              "1  U.S. military to accept transgender recruits o...  ...      1\n",
              "2  Senior U.S. Republican senator: 'Let Mr. Muell...  ...      1\n",
              "3  FBI Russia probe helped by Australian diplomat...  ...      1\n",
              "4  Trump wants Postal Service to charge 'much mor...  ...      1\n",
              "\n",
              "[5 rows x 5 columns]"
            ]
          },
          "metadata": {
            "tags": []
          },
          "execution_count": 11
        }
      ]
    },
    {
      "cell_type": "code",
      "metadata": {
        "colab": {
          "base_uri": "https://localhost:8080/"
        },
        "id": "793d0e68",
        "outputId": "1ed58981-cc5d-4f29-ed45-ba3e5cc049e6"
      },
      "source": [
        "df = pd.concat([df1, df2]).reset_index()\n",
        "df.pop('date')"
      ],
      "id": "793d0e68",
      "execution_count": 12,
      "outputs": [
        {
          "output_type": "execute_result",
          "data": {
            "text/plain": [
              "0         December 31, 2017\n",
              "1         December 31, 2017\n",
              "2         December 30, 2017\n",
              "3         December 29, 2017\n",
              "4         December 25, 2017\n",
              "                ...        \n",
              "29995    November 13, 2017 \n",
              "29996    November 13, 2017 \n",
              "29997    November 13, 2017 \n",
              "29998    November 12, 2017 \n",
              "29999    November 13, 2017 \n",
              "Name: date, Length: 30000, dtype: object"
            ]
          },
          "metadata": {
            "tags": []
          },
          "execution_count": 12
        }
      ]
    },
    {
      "cell_type": "code",
      "metadata": {
        "colab": {
          "base_uri": "https://localhost:8080/",
          "height": 293
        },
        "id": "942aee09",
        "outputId": "0d14c45c-1218-4f2a-b3a8-38f8394f8865"
      },
      "source": [
        "df.tail()"
      ],
      "id": "942aee09",
      "execution_count": 13,
      "outputs": [
        {
          "output_type": "execute_result",
          "data": {
            "text/html": [
              "<div>\n",
              "<style scoped>\n",
              "    .dataframe tbody tr th:only-of-type {\n",
              "        vertical-align: middle;\n",
              "    }\n",
              "\n",
              "    .dataframe tbody tr th {\n",
              "        vertical-align: top;\n",
              "    }\n",
              "\n",
              "    .dataframe thead th {\n",
              "        text-align: right;\n",
              "    }\n",
              "</style>\n",
              "<table border=\"1\" class=\"dataframe\">\n",
              "  <thead>\n",
              "    <tr style=\"text-align: right;\">\n",
              "      <th></th>\n",
              "      <th>index</th>\n",
              "      <th>title</th>\n",
              "      <th>text</th>\n",
              "      <th>subject</th>\n",
              "      <th>output</th>\n",
              "    </tr>\n",
              "  </thead>\n",
              "  <tbody>\n",
              "    <tr>\n",
              "      <th>29995</th>\n",
              "      <td>14995</td>\n",
              "      <td>Australian publisher delays book alleging Chin...</td>\n",
              "      <td>BEIJING (Reuters) - One of Australia s largest...</td>\n",
              "      <td>worldnews</td>\n",
              "      <td>1</td>\n",
              "    </tr>\n",
              "    <tr>\n",
              "      <th>29996</th>\n",
              "      <td>14996</td>\n",
              "      <td>Exclusive: Japan to delay multi-billion dollar...</td>\n",
              "      <td>TOKYO (Reuters) - Japan will delay a decision ...</td>\n",
              "      <td>worldnews</td>\n",
              "      <td>1</td>\n",
              "    </tr>\n",
              "    <tr>\n",
              "      <th>29997</th>\n",
              "      <td>14997</td>\n",
              "      <td>Strong quake hits Costa Rica, no reports of ma...</td>\n",
              "      <td>SAN JOSE (Reuters) - A strong 6.5 magnitude qu...</td>\n",
              "      <td>worldnews</td>\n",
              "      <td>1</td>\n",
              "    </tr>\n",
              "    <tr>\n",
              "      <th>29998</th>\n",
              "      <td>14998</td>\n",
              "      <td>United resumes Newark-Delhi flights after halt...</td>\n",
              "      <td>NEW YORK/SINGAPORE (Reuters) - United Airlines...</td>\n",
              "      <td>worldnews</td>\n",
              "      <td>1</td>\n",
              "    </tr>\n",
              "    <tr>\n",
              "      <th>29999</th>\n",
              "      <td>14999</td>\n",
              "      <td>Freeport Indonesia mine access road reopened a...</td>\n",
              "      <td>JAKARTA (Reuters) - The Indonesian unit of Fre...</td>\n",
              "      <td>worldnews</td>\n",
              "      <td>1</td>\n",
              "    </tr>\n",
              "  </tbody>\n",
              "</table>\n",
              "</div>"
            ],
            "text/plain": [
              "       index  ... output\n",
              "29995  14995  ...      1\n",
              "29996  14996  ...      1\n",
              "29997  14997  ...      1\n",
              "29998  14998  ...      1\n",
              "29999  14999  ...      1\n",
              "\n",
              "[5 rows x 5 columns]"
            ]
          },
          "metadata": {
            "tags": []
          },
          "execution_count": 13
        }
      ]
    },
    {
      "cell_type": "code",
      "metadata": {
        "id": "2f437aaf"
      },
      "source": [
        "from sklearn.utils import shuffle"
      ],
      "id": "2f437aaf",
      "execution_count": 14,
      "outputs": []
    },
    {
      "cell_type": "code",
      "metadata": {
        "id": "1f6fd1d9"
      },
      "source": [
        "df = shuffle(df)"
      ],
      "id": "1f6fd1d9",
      "execution_count": 15,
      "outputs": []
    },
    {
      "cell_type": "code",
      "metadata": {
        "colab": {
          "base_uri": "https://localhost:8080/",
          "height": 293
        },
        "id": "4f16332a",
        "outputId": "cb456675-e60a-479f-f551-f19002cfb477"
      },
      "source": [
        "df.head()"
      ],
      "id": "4f16332a",
      "execution_count": 16,
      "outputs": [
        {
          "output_type": "execute_result",
          "data": {
            "text/html": [
              "<div>\n",
              "<style scoped>\n",
              "    .dataframe tbody tr th:only-of-type {\n",
              "        vertical-align: middle;\n",
              "    }\n",
              "\n",
              "    .dataframe tbody tr th {\n",
              "        vertical-align: top;\n",
              "    }\n",
              "\n",
              "    .dataframe thead th {\n",
              "        text-align: right;\n",
              "    }\n",
              "</style>\n",
              "<table border=\"1\" class=\"dataframe\">\n",
              "  <thead>\n",
              "    <tr style=\"text-align: right;\">\n",
              "      <th></th>\n",
              "      <th>index</th>\n",
              "      <th>title</th>\n",
              "      <th>text</th>\n",
              "      <th>subject</th>\n",
              "      <th>output</th>\n",
              "    </tr>\n",
              "  </thead>\n",
              "  <tbody>\n",
              "    <tr>\n",
              "      <th>3761</th>\n",
              "      <td>3761</td>\n",
              "      <td>Trump Considering David Petraeus, Who Leaked ...</td>\n",
              "      <td>If Donald Trump picked retired General David P...</td>\n",
              "      <td>News</td>\n",
              "      <td>0</td>\n",
              "    </tr>\n",
              "    <tr>\n",
              "      <th>528</th>\n",
              "      <td>528</td>\n",
              "      <td>After Charlottesville GOP Asks Supporters How...</td>\n",
              "      <td>Donald Trump has a massive ego, so much so tha...</td>\n",
              "      <td>News</td>\n",
              "      <td>0</td>\n",
              "    </tr>\n",
              "    <tr>\n",
              "      <th>16056</th>\n",
              "      <td>1056</td>\n",
              "      <td>Senate diverges over renewal of internet spyin...</td>\n",
              "      <td>WASHINGTON (Reuters) - A Senate panel on Tuesd...</td>\n",
              "      <td>politicsNews</td>\n",
              "      <td>1</td>\n",
              "    </tr>\n",
              "    <tr>\n",
              "      <th>3263</th>\n",
              "      <td>3263</td>\n",
              "      <td>Noam Chomsky Makes ONE Last Request Of Obama,...</td>\n",
              "      <td>As many of us are slowly (and sadly) coming to...</td>\n",
              "      <td>News</td>\n",
              "      <td>0</td>\n",
              "    </tr>\n",
              "    <tr>\n",
              "      <th>23595</th>\n",
              "      <td>8595</td>\n",
              "      <td>Killing TPP would hand China 'keys to the cast...</td>\n",
              "      <td>LIMA (Reuters) - Failure to ratify the U.S.-le...</td>\n",
              "      <td>politicsNews</td>\n",
              "      <td>1</td>\n",
              "    </tr>\n",
              "  </tbody>\n",
              "</table>\n",
              "</div>"
            ],
            "text/plain": [
              "       index  ... output\n",
              "3761    3761  ...      0\n",
              "528      528  ...      0\n",
              "16056   1056  ...      1\n",
              "3263    3263  ...      0\n",
              "23595   8595  ...      1\n",
              "\n",
              "[5 rows x 5 columns]"
            ]
          },
          "metadata": {
            "tags": []
          },
          "execution_count": 16
        }
      ]
    },
    {
      "cell_type": "code",
      "metadata": {
        "colab": {
          "base_uri": "https://localhost:8080/"
        },
        "id": "74c2f022",
        "outputId": "54ebae59-668d-4c4c-aa9c-ab7e1b5930ef"
      },
      "source": [
        "df.isnull().sum()"
      ],
      "id": "74c2f022",
      "execution_count": 17,
      "outputs": [
        {
          "output_type": "execute_result",
          "data": {
            "text/plain": [
              "index      0\n",
              "title      0\n",
              "text       0\n",
              "subject    0\n",
              "output     0\n",
              "dtype: int64"
            ]
          },
          "metadata": {
            "tags": []
          },
          "execution_count": 17
        }
      ]
    },
    {
      "cell_type": "code",
      "metadata": {
        "id": "34c0da7b"
      },
      "source": [
        "from sklearn.feature_extraction.text import CountVectorizer\n",
        "from nltk.stem import WordNetLemmatizer\n",
        "from nltk.tokenize import word_tokenize\n",
        "import re\n",
        "from nltk.stem.porter import PorterStemmer\n",
        "ps = PorterStemmer()"
      ],
      "id": "34c0da7b",
      "execution_count": 18,
      "outputs": []
    },
    {
      "cell_type": "code",
      "metadata": {
        "id": "71d78e12"
      },
      "source": [
        "stop_words = [\"0o\", \"0s\", \"3a\", \"3b\", \"3d\", \"6b\", \"6o\", \"a\", \"a1\", \"a2\", \"a3\", \"a4\", \"ab\", \"able\", \"about\", \"above\", \"abst\", \"ac\", \"accordance\", \"according\", \"accordingly\", \"across\", \"act\", \"actually\", \"ad\", \"added\", \"adj\", \"ae\", \"af\", \"affected\", \"affecting\", \"affects\", \"after\", \"afterwards\", \"ag\", \"again\", \"against\", \"ah\", \"ain\", \"ain't\", \"aj\", \"al\", \"all\", \"allow\", \"allows\", \"almost\", \"alone\", \"along\", \"already\", \"also\", \"although\", \"always\", \"am\", \"among\", \"amongst\", \"amoungst\", \"amount\", \"an\", \"and\", \"announce\", \"another\", \"any\", \"anybody\", \"anyhow\", \"anymore\", \"anyone\", \"anything\", \"anyway\", \"anyways\", \"anywhere\", \"ao\", \"ap\", \"apart\", \"apparently\", \"appear\", \"appreciate\", \"appropriate\", \"approximately\", \"ar\", \"are\", \"aren\", \"arent\", \"aren't\", \"arise\", \"around\", \"as\", \"a's\", \"aside\", \"ask\", \"asking\", \"associated\", \"at\", \"au\", \"auth\", \"av\", \"available\", \"aw\", \"away\", \"awfully\", \"ax\", \"ay\", \"az\", \"b\", \"b1\", \"b2\", \"b3\", \"ba\", \"back\", \"bc\", \"bd\", \"be\", \"became\", \"because\", \"become\", \"becomes\", \"becoming\", \"been\", \"before\", \"beforehand\", \"begin\", \"beginning\", \"beginnings\", \"begins\", \"behind\", \"being\", \"believe\", \"below\", \"beside\", \"besides\", \"best\", \"better\", \"between\", \"beyond\", \"bi\", \"bill\", \"biol\", \"bj\", \"bk\", \"bl\", \"bn\", \"both\", \"bottom\", \"bp\", \"br\", \"brief\", \"briefly\", \"bs\", \"bt\", \"bu\", \"but\", \"bx\", \"by\", \"c\", \"c1\", \"c2\", \"c3\", \"ca\", \"call\", \"came\", \"can\", \"cannot\", \"cant\", \"can't\", \"cause\", \"causes\", \"cc\", \"cd\", \"ce\", \"certain\", \"certainly\", \"cf\", \"cg\", \"ch\", \"changes\", \"ci\", \"cit\", \"cj\", \"cl\", \"clearly\", \"cm\", \"c'mon\", \"cn\", \"co\", \"com\", \"come\", \"comes\", \"con\", \"concerning\", \"consequently\", \"consider\", \"considering\", \"contain\", \"containing\", \"contains\", \"corresponding\", \"could\", \"couldn\", \"couldnt\", \"couldn't\", \"course\", \"cp\", \"cq\", \"cr\", \"cry\", \"cs\", \"c's\", \"ct\", \"cu\", \"currently\", \"cv\", \"cx\", \"cy\", \"cz\", \"d\", \"d2\", \"da\", \"date\", \"dc\", \"dd\", \"de\", \"definitely\", \"describe\", \"described\", \"despite\", \"detail\", \"df\", \"di\", \"did\", \"didn\", \"didn't\", \"different\", \"dj\", \"dk\", \"dl\", \"do\", \"does\", \"doesn\", \"doesn't\", \"doing\", \"don\", \"done\", \"don't\", \"down\", \"downwards\", \"dp\", \"dr\", \"ds\", \"dt\", \"du\", \"due\", \"during\", \"dx\", \"dy\", \"e\", \"e2\", \"e3\", \"ea\", \"each\", \"ec\", \"ed\", \"edu\", \"ee\", \"ef\", \"effect\", \"eg\", \"ei\", \"eight\", \"eighty\", \"either\", \"ej\", \"el\", \"eleven\", \"else\", \"elsewhere\", \"em\", \"empty\", \"en\", \"end\", \"ending\", \"enough\", \"entirely\", \"eo\", \"ep\", \"eq\", \"er\", \"es\", \"especially\", \"est\", \"et\", \"et-al\", \"etc\", \"eu\", \"ev\", \"even\", \"ever\", \"every\", \"everybody\", \"everyone\", \"everything\", \"everywhere\", \"ex\", \"exactly\", \"example\", \"except\", \"ey\", \"f\", \"f2\", \"fa\", \"far\", \"fc\", \"few\", \"ff\", \"fi\", \"fifteen\", \"fifth\", \"fify\", \"fill\", \"find\", \"fire\", \"first\", \"five\", \"fix\", \"fj\", \"fl\", \"fn\", \"fo\", \"followed\", \"following\", \"follows\", \"for\", \"former\", \"formerly\", \"forth\", \"forty\", \"found\", \"four\", \"fr\", \"from\", \"front\", \"fs\", \"ft\", \"fu\", \"full\", \"further\", \"furthermore\", \"fy\", \"g\", \"ga\", \"gave\", \"ge\", \"get\", \"gets\", \"getting\", \"gi\", \"give\", \"given\", \"gives\", \"giving\", \"gj\", \"gl\", \"go\", \"goes\", \"going\", \"gone\", \"got\", \"gotten\", \"gr\", \"greetings\", \"gs\", \"gy\", \"h\", \"h2\", \"h3\", \"had\", \"hadn\", \"hadn't\", \"happens\", \"hardly\", \"has\", \"hasn\", \"hasnt\", \"hasn't\", \"have\", \"haven\", \"haven't\", \"having\", \"he\", \"hed\", \"he'd\", \"he'll\", \"hello\", \"help\", \"hence\", \"her\", \"here\", \"hereafter\", \"hereby\", \"herein\", \"heres\", \"here's\", \"hereupon\", \"hers\", \"herself\", \"hes\", \"he's\", \"hh\", \"hi\", \"hid\", \"him\", \"himself\", \"his\", \"hither\", \"hj\", \"ho\", \"home\", \"hopefully\", \"how\", \"howbeit\", \"however\", \"how's\", \"hr\", \"hs\", \"http\", \"hu\", \"hundred\", \"hy\", \"i\", \"i2\", \"i3\", \"i4\", \"i6\", \"i7\", \"i8\", \"ia\", \"ib\", \"ibid\", \"ic\", \"id\", \"i'd\", \"ie\", \"if\", \"ig\", \"ignored\", \"ih\", \"ii\", \"ij\", \"il\", \"i'll\", \"im\", \"i'm\", \"immediate\", \"immediately\", \"importance\", \"important\", \"in\", \"inasmuch\", \"inc\", \"indeed\", \"index\", \"indicate\", \"indicated\", \"indicates\", \"information\", \"inner\", \"insofar\", \"instead\", \"interest\", \"into\", \"invention\", \"inward\", \"io\", \"ip\", \"iq\", \"ir\", \"is\", \"isn\", \"isn't\", \"it\", \"itd\", \"it'd\", \"it'll\", \"its\", \"it's\", \"itself\", \"iv\", \"i've\", \"ix\", \"iy\", \"iz\", \"j\", \"jj\", \"jr\", \"js\", \"jt\", \"ju\", \"just\", \"k\", \"ke\", \"keep\", \"keeps\", \"kept\", \"kg\", \"kj\", \"km\", \"know\", \"known\", \"knows\", \"ko\", \"l\", \"l2\", \"la\", \"largely\", \"last\", \"lately\", \"later\", \"latter\", \"latterly\", \"lb\", \"lc\", \"le\", \"least\", \"les\", \"less\", \"lest\", \"let\", \"lets\", \"let's\", \"lf\", \"like\", \"liked\", \"likely\", \"line\", \"little\", \"lj\", \"ll\", \"ll\", \"ln\", \"lo\", \"look\", \"looking\", \"looks\", \"los\", \"lr\", \"ls\", \"lt\", \"ltd\", \"m\", \"m2\", \"ma\", \"made\", \"mainly\", \"make\", \"makes\", \"many\", \"may\", \"maybe\", \"me\", \"mean\", \"means\", \"meantime\", \"meanwhile\", \"merely\", \"mg\", \"might\", \"mightn\", \"mightn't\", \"mill\", \"million\", \"mine\", \"miss\", \"ml\", \"mn\", \"mo\", \"more\", \"moreover\", \"most\", \"mostly\", \"move\", \"mr\", \"mrs\", \"ms\", \"mt\", \"mu\", \"much\", \"mug\", \"must\", \"mustn\", \"mustn't\", \"my\", \"myself\", \"n\", \"n2\", \"na\", \"name\", \"namely\", \"nay\", \"nc\", \"nd\", \"ne\", \"near\", \"nearly\", \"necessarily\", \"necessary\", \"need\", \"needn\", \"needn't\", \"needs\", \"neither\", \"never\", \"nevertheless\", \"new\", \"next\", \"ng\", \"ni\", \"nine\", \"ninety\", \"nj\", \"nl\", \"nn\", \"no\", \"nobody\", \"noone\", \"nor\", \"normally\", \"noted\", \"nothing\", \"novel\", \"now\", \"nowhere\", \"nr\", \"ns\", \"nt\", \"ny\", \"o\", \"oa\", \"ob\", \"obtain\", \"obtained\", \"obviously\", \"oc\", \"od\", \"of\", \"off\", \"often\", \"og\", \"oh\", \"oi\", \"oj\", \"ok\", \"okay\", \"ol\", \"old\", \"om\", \"omitted\", \"on\", \"once\", \"one\", \"ones\", \"only\", \"onto\", \"oo\", \"op\", \"oq\", \"or\", \"ord\", \"os\", \"ot\", \"other\", \"others\", \"otherwise\", \"ou\", \"ought\", \"our\", \"ours\", \"ourselves\", \"out\", \"outside\", \"over\", \"overall\", \"ow\", \"owing\", \"own\", \"ox\", \"oz\", \"p\", \"p1\", \"p2\", \"p3\", \"page\", \"pagecount\", \"pages\", \"par\", \"part\", \"particular\", \"particularly\", \"pas\", \"past\", \"pc\", \"pd\", \"pe\", \"per\", \"perhaps\", \"pf\", \"ph\", \"pi\", \"pj\", \"pk\", \"pl\", \"placed\", \"please\", \"plus\", \"pm\", \"pn\", \"po\", \"poorly\", \"possible\", \"possibly\", \"potentially\", \"pp\", \"pq\", \"pr\", \"predominantly\", \"present\", \"presumably\", \"previously\", \"primarily\", \"probably\", \"promptly\", \"proud\", \"provides\", \"ps\", \"pt\", \"pu\", \"put\", \"py\", \"q\", \"qj\", \"qu\", \"que\", \"quickly\", \"quite\", \"qv\", \"r\", \"r2\", \"ra\", \"ran\", \"rather\", \"rc\", \"rd\", \"re\", \"readily\", \"really\", \"reasonably\", \"recent\", \"recently\", \"ref\", \"refs\", \"regarding\", \"regardless\", \"regards\", \"related\", \"relatively\", \"research\", \"research-articl\", \"respectively\", \"resulted\", \"resulting\", \"results\", \"rf\", \"rh\", \"ri\", \"right\", \"rj\", \"rl\", \"rm\", \"rn\", \"ro\", \"rq\", \"rr\", \"rs\", \"rt\", \"ru\", \"run\", \"rv\", \"ry\", \"s\", \"s2\", \"sa\", \"said\", \"same\", \"saw\", \"say\", \"saying\", \"says\", \"sc\", \"sd\", \"se\", \"sec\", \"second\", \"secondly\", \"section\", \"see\", \"seeing\", \"seem\", \"seemed\", \"seeming\", \"seems\", \"seen\", \"self\", \"selves\", \"sensible\", \"sent\", \"serious\", \"seriously\", \"seven\", \"several\", \"sf\", \"shall\", \"shan\", \"shan't\", \"she\", \"shed\", \"she'd\", \"she'll\", \"shes\", \"she's\", \"should\", \"shouldn\", \"shouldn't\", \"should've\", \"show\", \"showed\", \"shown\", \"showns\", \"shows\", \"si\", \"side\", \"significant\", \"significantly\", \"similar\", \"similarly\", \"since\", \"sincere\", \"six\", \"sixty\", \"sj\", \"sl\", \"slightly\", \"sm\", \"sn\", \"so\", \"some\", \"somebody\", \"somehow\", \"someone\", \"somethan\", \"something\", \"sometime\", \"sometimes\", \"somewhat\", \"somewhere\", \"soon\", \"sorry\", \"sp\", \"specifically\", \"specified\", \"specify\", \"specifying\", \"sq\", \"sr\", \"ss\", \"st\", \"still\", \"stop\", \"strongly\", \"sub\", \"substantially\", \"successfully\", \"such\", \"sufficiently\", \"suggest\", \"sup\", \"sure\", \"sy\", \"system\", \"sz\", \"t\", \"t1\", \"t2\", \"t3\", \"take\", \"taken\", \"taking\", \"tb\", \"tc\", \"td\", \"te\", \"tell\", \"ten\", \"tends\", \"tf\", \"th\", \"than\", \"thank\", \"thanks\", \"thanx\", \"that\", \"that'll\", \"thats\", \"that's\", \"that've\", \"the\", \"their\", \"theirs\", \"them\", \"themselves\", \"then\", \"thence\", \"there\", \"thereafter\", \"thereby\", \"thered\", \"therefore\", \"therein\", \"there'll\", \"thereof\", \"therere\", \"theres\", \"there's\", \"thereto\", \"thereupon\", \"there've\", \"these\", \"they\", \"theyd\", \"they'd\", \"they'll\", \"theyre\", \"they're\", \"they've\", \"thickv\", \"thin\", \"think\", \"third\", \"this\", \"thorough\", \"thoroughly\", \"those\", \"thou\", \"though\", \"thoughh\", \"thousand\", \"three\", \"throug\", \"through\", \"throughout\", \"thru\", \"thus\", \"ti\", \"til\", \"tip\", \"tj\", \"tl\", \"tm\", \"tn\", \"to\", \"together\", \"too\", \"took\", \"top\", \"toward\", \"towards\", \"tp\", \"tq\", \"tr\", \"tried\", \"tries\", \"truly\", \"try\", \"trying\", \"ts\", \"t's\", \"tt\", \"tv\", \"twelve\", \"twenty\", \"twice\", \"two\", \"tx\", \"u\", \"u201d\", \"ue\", \"ui\", \"uj\", \"uk\", \"um\", \"un\", \"under\", \"unfortunately\", \"unless\", \"unlike\", \"unlikely\", \"until\", \"unto\", \"uo\", \"up\", \"upon\", \"ups\", \"ur\", \"us\", \"use\", \"used\", \"useful\", \"usefully\", \"usefulness\", \"uses\", \"using\", \"usually\", \"ut\", \"v\", \"va\", \"value\", \"various\", \"vd\", \"ve\", \"ve\", \"very\", \"via\", \"viz\", \"vj\", \"vo\", \"vol\", \"vols\", \"volumtype\", \"vq\", \"vs\", \"vt\", \"vu\", \"w\", \"wa\", \"want\", \"wants\", \"was\", \"wasn\", \"wasnt\", \"wasn't\", \"way\", \"we\", \"wed\", \"we'd\", \"welcome\", \"well\", \"we'll\", \"well-b\", \"went\", \"were\", \"we're\", \"weren\", \"werent\", \"weren't\", \"we've\", \"what\", \"whatever\", \"what'll\", \"whats\", \"what's\", \"when\", \"whence\", \"whenever\", \"when's\", \"where\", \"whereafter\", \"whereas\", \"whereby\", \"wherein\", \"wheres\", \"where's\", \"whereupon\", \"wherever\", \"whether\", \"which\", \"while\", \"whim\", \"whither\", \"who\", \"whod\", \"whoever\", \"whole\", \"who'll\", \"whom\", \"whomever\", \"whos\", \"who's\", \"whose\", \"why\", \"why's\", \"wi\", \"widely\", \"will\", \"willing\", \"wish\", \"with\", \"within\", \"without\", \"wo\", \"won\", \"wonder\", \"wont\", \"won't\", \"words\", \"world\", \"would\", \"wouldn\", \"wouldnt\", \"wouldn't\", \"www\", \"x\", \"x1\", \"x2\", \"x3\", \"xf\", \"xi\", \"xj\", \"xk\", \"xl\", \"xn\", \"xo\", \"xs\", \"xt\", \"xv\", \"xx\", \"y\", \"y2\", \"yes\", \"yet\", \"yj\", \"yl\", \"you\", \"youd\", \"you'd\", \"you'll\", \"your\", \"youre\", \"you're\", \"yours\", \"yourself\", \"yourselves\", \"you've\", \"yr\", \"ys\", \"yt\", \"z\", \"zero\", \"zi\", \"zz\",]"
      ],
      "id": "71d78e12",
      "execution_count": 19,
      "outputs": []
    },
    {
      "cell_type": "code",
      "metadata": {
        "id": "20c8e402"
      },
      "source": [
        "corpus = []\n",
        "for i in range(0, len(df)):\n",
        "    subdata = re.sub('[^a-zA-Z]', ' ', df['title'][i])\n",
        "    subdata = subdata.lower()\n",
        "    subdata = subdata.split()\n",
        "    \n",
        "    subdata = [ps.stem(word) for word in subdata if not word in stop_words]\n",
        "    subdata = ' '.join(subdata)\n",
        "    corpus.append(subdata)"
      ],
      "id": "20c8e402",
      "execution_count": 20,
      "outputs": []
    },
    {
      "cell_type": "code",
      "metadata": {
        "colab": {
          "base_uri": "https://localhost:8080/"
        },
        "id": "UgAKPWNz73tp",
        "outputId": "fd2964b0-27bb-4ea3-d801-eae2e75802e4"
      },
      "source": [
        "len(corpus)"
      ],
      "id": "UgAKPWNz73tp",
      "execution_count": 21,
      "outputs": [
        {
          "output_type": "execute_result",
          "data": {
            "text/plain": [
              "30000"
            ]
          },
          "metadata": {
            "tags": []
          },
          "execution_count": 21
        }
      ]
    },
    {
      "cell_type": "code",
      "metadata": {
        "id": "zktdGKonyP1A"
      },
      "source": [
        "cv = CountVectorizer(max_features=20000,ngram_range=(1,3))\n",
        "X_train = cv.fit_transform(corpus).toarray()"
      ],
      "id": "zktdGKonyP1A",
      "execution_count": 22,
      "outputs": []
    },
    {
      "cell_type": "code",
      "metadata": {
        "colab": {
          "base_uri": "https://localhost:8080/"
        },
        "id": "pXOVQH6VybMd",
        "outputId": "f7b366d4-047a-42e9-cb8c-a1838e19c6a1"
      },
      "source": [
        "cv.vocabulary_"
      ],
      "id": "pXOVQH6VybMd",
      "execution_count": 23,
      "outputs": [
        {
          "output_type": "execute_result",
          "data": {
            "text/plain": [
              "{'donald': 4970,\n",
              " 'trump': 17075,\n",
              " 'send': 14952,\n",
              " 'embarrass': 5340,\n",
              " 'year': 19877,\n",
              " 'eve': 5552,\n",
              " 'messag': 10181,\n",
              " 'disturb': 4905,\n",
              " 'donald trump': 4971,\n",
              " 'trump send': 18129,\n",
              " 'year eve': 19882,\n",
              " 'drunk': 5109,\n",
              " 'brag': 1708,\n",
              " 'staffer': 15701,\n",
              " 'start': 15743,\n",
              " 'russian': 14327,\n",
              " 'collus': 3290,\n",
              " 'investig': 8309,\n",
              " 'brag trump': 1711,\n",
              " 'trump staffer': 18191,\n",
              " 'russian collus': 14334,\n",
              " 'collus investig': 3291,\n",
              " 'sheriff': 15118,\n",
              " 'david': 4158,\n",
              " 'clark': 2924,\n",
              " 'internet': 8268,\n",
              " 'joke': 8667,\n",
              " 'threaten': 16722,\n",
              " 'poke': 12343,\n",
              " 'peopl': 12057,\n",
              " 'eye': 5694,\n",
              " 'sheriff david': 15121,\n",
              " 'david clark': 4160,\n",
              " 'sheriff david clark': 15122,\n",
              " 'obsess': 11439,\n",
              " 'obama': 11190,\n",
              " 'code': 3247,\n",
              " 'websit': 19393,\n",
              " 'imag': 8025,\n",
              " 'trump obsess': 17899,\n",
              " 'websit imag': 19394,\n",
              " 'pope': 12503,\n",
              " 'franci': 6364,\n",
              " 'call': 2134,\n",
              " 'christma': 2813,\n",
              " 'speech': 15604,\n",
              " 'pope franci': 12504,\n",
              " 'call donald': 2155,\n",
              " 'trump christma': 17255,\n",
              " 'call donald trump': 2156,\n",
              " 'donald trump christma': 4981,\n",
              " 'racist': 13158,\n",
              " 'alabama': 312,\n",
              " 'cop': 3662,\n",
              " 'brutal': 1889,\n",
              " 'black': 1434,\n",
              " 'boy': 1696,\n",
              " 'handcuff': 7135,\n",
              " 'graphic': 6929,\n",
              " 'cop brutal': 3665,\n",
              " 'fresh': 6411,\n",
              " 'golf': 6677,\n",
              " 'lash': 9116,\n",
              " 'fbi': 5904,\n",
              " 'deputi': 4654,\n",
              " 'director': 4800,\n",
              " 'jame': 8478,\n",
              " 'comey': 3323,\n",
              " 'trump lash': 17732,\n",
              " 'fbi deputi': 5915,\n",
              " 'deputi director': 4660,\n",
              " 'director jame': 4807,\n",
              " 'jame comey': 8480,\n",
              " 'fbi deputi director': 5916,\n",
              " 'director jame comey': 4808,\n",
              " 'insan': 8187,\n",
              " 'stuff': 15991,\n",
              " 'insid': 8197,\n",
              " 'oval': 11639,\n",
              " 'offic': 11468,\n",
              " 'wit': 19696,\n",
              " 'trump insan': 17657,\n",
              " 'insan racist': 8189,\n",
              " 'oval offic': 11640,\n",
              " 'cia': 2835,\n",
              " 'slam': 15328,\n",
              " 'bulli': 1944,\n",
              " 'openli': 11544,\n",
              " 'suggest': 16053,\n",
              " 'act': 101,\n",
              " 'dictat': 4762,\n",
              " 'tweet': 18484,\n",
              " 'cia director': 2837,\n",
              " 'slam trump': 15349,\n",
              " 'trump bulli': 17212,\n",
              " 'watch': 19171,\n",
              " 'brand': 1718,\n",
              " 'pro': 12800,\n",
              " 'featur': 5947,\n",
              " 'kiss': 8955,\n",
              " 'sick': 15216,\n",
              " 'pro trump': 12814,\n",
              " 'papa': 11830,\n",
              " 'john': 8626,\n",
              " 'founder': 6321,\n",
              " 'retir': 13922,\n",
              " 'figur': 6059,\n",
              " 'racism': 13155,\n",
              " 'bad': 1055,\n",
              " 'busi': 2012,\n",
              " 'papa john': 11831,\n",
              " 'bad busi': 1056,\n",
              " 'paul': 11962,\n",
              " 'ryan': 14386,\n",
              " 'told': 16852,\n",
              " 'care': 2426,\n",
              " 'struggl': 15977,\n",
              " 'famili': 5824,\n",
              " 'live': 9523,\n",
              " 'blue': 1571,\n",
              " 'state': 15749,\n",
              " 'watch paul': 19286,\n",
              " 'paul ryan': 11968,\n",
              " 'blue state': 1574,\n",
              " 'watch paul ryan': 19287,\n",
              " 'news': 10837,\n",
              " 'mitch': 10415,\n",
              " 'mcconnel': 9977,\n",
              " 'repeal': 13615,\n",
              " 'obamacar': 11415,\n",
              " 'bad news': 1058,\n",
              " 'news trump': 10874,\n",
              " 'mitch mcconnel': 10416,\n",
              " 'repeal obamacar': 13618,\n",
              " 'bad news trump': 1060,\n",
              " 'lindsey': 9495,\n",
              " 'graham': 6911,\n",
              " 'trash': 16991,\n",
              " 'media': 9999,\n",
              " 'portray': 12520,\n",
              " 'forget': 6298,\n",
              " 'watch lindsey': 19250,\n",
              " 'lindsey graham': 9496,\n",
              " 'watch lindsey graham': 19251,\n",
              " 'disney': 4873,\n",
              " 'empir': 5364,\n",
              " 'gop': 6711,\n",
              " 'scam': 14598,\n",
              " 'shred': 15196,\n",
              " 'tax': 16361,\n",
              " 'tone': 16873,\n",
              " 'deaf': 4203,\n",
              " 'congrat': 3482,\n",
              " 'rep': 13599,\n",
              " 'scalis': 14597,\n",
              " 'lose': 9620,\n",
              " 'weight': 19436,\n",
              " 'die': 4765,\n",
              " 'mock': 10434,\n",
              " 'robot': 14135,\n",
              " 'hall': 7106,\n",
              " 'presid': 12623,\n",
              " 'internet brutal': 8269,\n",
              " 'brutal mock': 1896,\n",
              " 'hall presid': 7108,\n",
              " 'mueller': 10572,\n",
              " 'spokesman': 15662,\n",
              " 'cked': 2897,\n",
              " 'snl': 15436,\n",
              " 'hilari': 7411,\n",
              " 'accus': 76,\n",
              " 'child': 2709,\n",
              " 'molest': 10458,\n",
              " 'roy': 14192,\n",
              " 'moor': 10504,\n",
              " 'senat': 14800,\n",
              " 'race': 13137,\n",
              " 'video': 18825,\n",
              " 'snl hilari': 15437,\n",
              " 'hilari mock': 7419,\n",
              " 'accus child': 77,\n",
              " 'child molest': 2712,\n",
              " 'roy moor': 14193,\n",
              " 'senat race': 14913,\n",
              " 'race video': 13148,\n",
              " 'snl hilari mock': 15438,\n",
              " 'accus child molest': 78,\n",
              " 'senat race video': 14914,\n",
              " 'republican': 13671,\n",
              " 'drag': 5046,\n",
              " 'robert': 14128,\n",
              " 'republican senat': 13790,\n",
              " 'robert mueller': 14131,\n",
              " 'heartless': 7336,\n",
              " 'rebuk': 13395,\n",
              " 'victim': 18817,\n",
              " 'invit': 8323,\n",
              " 'nra': 11135,\n",
              " 'parti': 11884,\n",
              " 'sandi': 14535,\n",
              " 'hook': 7645,\n",
              " 'anniversari': 597,\n",
              " 'trump invit': 17669,\n",
              " 'sandi hook': 14536,\n",
              " 'ky': 9060,\n",
              " 'commit': 3366,\n",
              " 'suicid': 16055,\n",
              " 'alleg': 348,\n",
              " 'teen': 16456,\n",
              " 'girl': 6621,\n",
              " 'detail': 4715,\n",
              " 'gop state': 6805,\n",
              " 'state rep': 15797,\n",
              " 'commit suicid': 3373,\n",
              " 'teen girl': 16457,\n",
              " 'gop state rep': 6806,\n",
              " 'meghan': 10121,\n",
              " 'mccain': 9965,\n",
              " 'amaz': 381,\n",
              " 'respons': 13873,\n",
              " 'doug': 5035,\n",
              " 'jone': 8677,\n",
              " 'win': 19626,\n",
              " 'deep': 4310,\n",
              " 'red': 13438,\n",
              " 'meghan mccain': 10123,\n",
              " 'doug jone': 5036,\n",
              " 'deep red': 4311,\n",
              " 'cnn': 3188,\n",
              " 'democrat': 4420,\n",
              " 'repres': 13668,\n",
              " 'time': 16806,\n",
              " 'call democrat': 2154,\n",
              " 'democrat repres': 4523,\n",
              " 'alabama senat': 316,\n",
              " 'time year': 16831,\n",
              " 'white': 19499,\n",
              " 'hous': 7694,\n",
              " 'sexist': 15052,\n",
              " 'slut': 15403,\n",
              " 'shame': 15087,\n",
              " 'sen': 14798,\n",
              " 'gillibrand': 6613,\n",
              " 'white hous': 19506,\n",
              " 'sexist trump': 15055,\n",
              " 'slut shame': 15404,\n",
              " 'despic': 4688,\n",
              " 'femal': 5995,\n",
              " 'campaign': 2311,\n",
              " 'money': 10467,\n",
              " 'trump suggest': 18218,\n",
              " 'femal senat': 5997,\n",
              " 'senat campaign': 14814,\n",
              " 'campaign money': 2355,\n",
              " 'candid': 2389,\n",
              " 'side': 15222,\n",
              " 'putin': 13071,\n",
              " 'reagan': 13340,\n",
              " 'senat candid': 14815,\n",
              " 'candid roy': 2394,\n",
              " 'reagan video': 13344,\n",
              " 'candid roy moor': 2395,\n",
              " 'fox': 6324,\n",
              " 'host': 7663,\n",
              " 'cleans': 2950,\n",
              " 'arrest': 781,\n",
              " 'watch fox': 19209,\n",
              " 'fox host': 6329,\n",
              " 'host call': 7665,\n",
              " 'investig trump': 8320,\n",
              " 'watch fox host': 19210,\n",
              " 'fox host call': 6330,\n",
              " 'liber': 9399,\n",
              " 'group': 6989,\n",
              " 'troll': 17053,\n",
              " 'ralli': 13212,\n",
              " 'liber group': 9404,\n",
              " 'troll trump': 17058,\n",
              " 'ralli video': 13220,\n",
              " 'franken': 6370,\n",
              " 'resign': 13851,\n",
              " 'backfir': 1047,\n",
              " 'franken resign': 6371,\n",
              " 'break': 1732,\n",
              " 'final': 6082,\n",
              " 'walter': 19090,\n",
              " 'scott': 14652,\n",
              " 'killer': 8939,\n",
              " 'sentenc': 14981,\n",
              " 'prison': 12778,\n",
              " 'proof': 12880,\n",
              " 'unfit': 18618,\n",
              " 'servic': 15000,\n",
              " 'proof trump': 12883,\n",
              " 'trump unfit': 18342,\n",
              " 'complet': 3412,\n",
              " 'screw': 14669,\n",
              " 'middl': 10261,\n",
              " 'east': 5162,\n",
              " 'peac': 11996,\n",
              " 'process': 12846,\n",
              " 'wednesday': 19398,\n",
              " 'trump complet': 17285,\n",
              " 'middl east': 10263,\n",
              " 'east peac': 5163,\n",
              " 'peac process': 12001,\n",
              " 'middl east peac': 10264,\n",
              " 'recogn': 13410,\n",
              " 'jerusalem': 8535,\n",
              " 'today': 16844,\n",
              " 'trump care': 17236,\n",
              " 'trump recogn': 18033,\n",
              " 'recogn jerusalem': 13411,\n",
              " 'trump recogn jerusalem': 18034,\n",
              " 'support': 16081,\n",
              " 'coal': 3230,\n",
              " 'ceo': 2557,\n",
              " 'upset': 18710,\n",
              " 'wipe': 19676,\n",
              " 'thousand': 16706,\n",
              " 'mine': 10334,\n",
              " 'job': 8590,\n",
              " 'watch trump': 19328,\n",
              " 'trump support': 18222,\n",
              " 'coal ceo': 3231,\n",
              " 'upset trump': 18711,\n",
              " 'coal mine': 3234,\n",
              " 'watch trump support': 19333,\n",
              " 'sit': 15289,\n",
              " 'donat': 5012,\n",
              " 'gop senat': 6797,\n",
              " 'democrat senat': 4533,\n",
              " 'nation': 10747,\n",
              " 'committe': 3375,\n",
              " 'pedophil': 12013,\n",
              " 'republican nation': 13743,\n",
              " 'nation committe': 10752,\n",
              " 'republican nation committe': 13744,\n",
              " 'eat': 5171,\n",
              " 'habit': 7073,\n",
              " 'dramat': 5052,\n",
              " 'safeti': 14427,\n",
              " 'want': 19093,\n",
              " 'twitter': 18501,\n",
              " 'follow': 6245,\n",
              " 'plan': 12231,\n",
              " 'miser': 10366,\n",
              " 'john mccain': 8638,\n",
              " 'twitter follow': 18518,\n",
              " 'sarah': 14547,\n",
              " 'huckabe': 7831,\n",
              " 'sander': 14489,\n",
              " 'attack': 903,\n",
              " 'age': 234,\n",
              " 'sarah huckabe': 14548,\n",
              " 'huckabe sander': 7832,\n",
              " 'tweet attack': 18485,\n",
              " 'attack fbi': 910,\n",
              " 'sarah huckabe sander': 14549,\n",
              " 'agent': 239,\n",
              " 'destroy': 4690,\n",
              " 'agenc': 235,\n",
              " 'fbi agent': 5905,\n",
              " 'destroy donald': 4696,\n",
              " 'trump attack': 17148,\n",
              " 'destroy donald trump': 4697,\n",
              " 'donald trump attack': 4975,\n",
              " 'ghost': 6604,\n",
              " 'flip': 6202,\n",
              " 'skit': 15322,\n",
              " 'take': 16280,\n",
              " 'privat': 12786,\n",
              " 'holiday': 7599,\n",
              " 'hell': 7358,\n",
              " 'snl skit': 15439,\n",
              " 'take trump': 16292,\n",
              " 'hell video': 7362,\n",
              " 'leak': 9279,\n",
              " 'email': 5315,\n",
              " 'prove': 12935,\n",
              " 'offici': 11475,\n",
              " 'awar': 1005,\n",
              " 'russia': 14250,\n",
              " 'thrown': 16753,\n",
              " 'usa': 18734,\n",
              " 'elect': 5229,\n",
              " 'leak email': 9282,\n",
              " 'email prove': 5329,\n",
              " 'prove trump': 12958,\n",
              " 'trump offici': 17905,\n",
              " 'elect trump': 5274,\n",
              " 'admit': 156,\n",
              " 'knew': 8974,\n",
              " 'flynn': 6227,\n",
              " 'lie': 9436,\n",
              " 'ask': 825,\n",
              " 'drop': 5078,\n",
              " 'trump admit': 17099,\n",
              " 'knew flynn': 8975,\n",
              " 'lie fbi': 9444,\n",
              " 'ask comey': 827,\n",
              " 'comey drop': 3326,\n",
              " 'awesom': 1007,\n",
              " 'michael': 10243,\n",
              " 'lead': 9241,\n",
              " 'lock': 9563,\n",
              " 'chant': 2603,\n",
              " 'court': 3766,\n",
              " 'michael flynn': 10245,\n",
              " 'panic': 11821,\n",
              " 'know': 8981,\n",
              " 'crack': 3846,\n",
              " 'testifi': 16638,\n",
              " 'mueller trump': 10582,\n",
              " 'epic': 5450,\n",
              " 'ck': 2890,\n",
              " 'britain': 1839,\n",
              " 'supremacist': 16158,\n",
              " 'retweet': 13957,\n",
              " 'trump epic': 17420,\n",
              " 'white supremacist': 19571,\n",
              " 'voter': 19010,\n",
              " 'avoid': 998,\n",
              " 'scandal': 14601,\n",
              " 'elect offici': 5259,\n",
              " 'joe': 8611,\n",
              " 'scarborough': 14606,\n",
              " 'not': 11013,\n",
              " 'imagin': 8031,\n",
              " 'mind': 10331,\n",
              " 'joe scarborough': 8622,\n",
              " 'trump lose': 17794,\n",
              " 'lose mind': 9629,\n",
              " 'mind video': 10333,\n",
              " 'sourc': 15517,\n",
              " 'confirm': 3465,\n",
              " 'interview': 8288,\n",
              " 'jare': 8499,\n",
              " 'kushner': 9056,\n",
              " 'week': 19404,\n",
              " 'ago': 244,\n",
              " 'confirm robert': 3469,\n",
              " 'jare kushner': 8501,\n",
              " 'week ago': 19405,\n",
              " 'crazi': 3858,\n",
              " 'wrong': 19851,\n",
              " 'account': 73,\n",
              " 'sh': 15071,\n",
              " 'leader': 9257,\n",
              " 'remark': 13574,\n",
              " 'time tweet': 16827,\n",
              " 'lose sh': 9630,\n",
              " 'american': 433,\n",
              " 'rape': 13246,\n",
              " 'american elect': 452,\n",
              " 'elect presid': 5262,\n",
              " 'rape year': 13256,\n",
              " 'year girl': 19883,\n",
              " 'american elect presid': 453,\n",
              " 'rape year girl': 13257,\n",
              " 'biggest': 1362,\n",
              " 'kkk': 8958,\n",
              " 'fan': 5842,\n",
              " 'love': 9659,\n",
              " 'anti': 620,\n",
              " 'muslim': 10643,\n",
              " 'morn': 10517,\n",
              " 'trump biggest': 17176,\n",
              " 'anti muslim': 641,\n",
              " 'spent': 15625,\n",
              " 'night': 10909,\n",
              " 'convict': 3644,\n",
              " 'crimin': 3890,\n",
              " 'trump spent': 18181,\n",
              " 'retweet white': 13963,\n",
              " 'sean': 14682,\n",
              " 'hanniti': 7144,\n",
              " 'throw': 16741,\n",
              " 'stage': 15703,\n",
              " 'temper': 16548,\n",
              " 'tantrum': 16333,\n",
              " 'photo': 12159,\n",
              " 'pose': 12522,\n",
              " 'sean hanniti': 14683,\n",
              " 'hanniti throw': 7148,\n",
              " 'temper tantrum': 16549,\n",
              " 'big': 1341,\n",
              " 'rant': 13241,\n",
              " 'democrat trump': 4554,\n",
              " 'trump big': 17175,\n",
              " 'insan twitter': 8194,\n",
              " 'twitter rant': 18529,\n",
              " 'wake': 19069,\n",
              " 'scream': 14665,\n",
              " 'hurl': 7906,\n",
              " 'racial': 13152,\n",
              " 'slur': 15400,\n",
              " 'yesterday': 19917,\n",
              " 'trump wake': 18371,\n",
              " 'black peopl': 1467,\n",
              " 'racial slur': 13154,\n",
              " 'object': 11431,\n",
              " 'princ': 12767,\n",
              " 'harri': 7216,\n",
              " 'engag': 5405,\n",
              " 'terribl': 16592,\n",
              " 'reason': 13374,\n",
              " 'princ harri': 12770,\n",
              " 'harri engag': 7217,\n",
              " 'princ harri engag': 12771,\n",
              " 'honor': 7642,\n",
              " 'nativ': 10772,\n",
              " 'elizabeth': 5299,\n",
              " 'warren': 19145,\n",
              " 'pocahonta': 12323,\n",
              " 'nativ american': 10773,\n",
              " 'american code': 443,\n",
              " 'trump call': 17222,\n",
              " 'elizabeth warren': 5300,\n",
              " 'warren pocahonta': 19149,\n",
              " 'american code talker': 444,\n",
              " 'elizabeth warren pocahonta': 5302,\n",
              " 'pictur': 12190,\n",
              " 'popular': 12509,\n",
              " 'trump group': 17559,\n",
              " 'ralli trump': 13219,\n",
              " 'trump popular': 17961,\n",
              " 'pro trump group': 12815,\n",
              " 'breitbart': 1791,\n",
              " 'editor': 5190,\n",
              " 'song': 15501,\n",
              " 'starr': 15742,\n",
              " 'breitbart editor': 1792,\n",
              " 'cnn host': 3212,\n",
              " 'photograph': 12163,\n",
              " 'level': 9376,\n",
              " 'obama photograph': 11323,\n",
              " 'trump level': 17766,\n",
              " 'trump presid': 17973,\n",
              " 'defend': 4326,\n",
              " 'week elect': 19406,\n",
              " 'trump defend': 17336,\n",
              " 'principl': 12774,\n",
              " 'power': 12564,\n",
              " 'remain': 13568,\n",
              " 'relev': 13559,\n",
              " 'power republican': 12569,\n",
              " 'heard': 7330,\n",
              " 'access': 60,\n",
              " 'hollywood': 7601,\n",
              " 'tape': 16338,\n",
              " 'happen': 7149,\n",
              " 'access hollywood': 61,\n",
              " 'hollywood tape': 7608,\n",
              " 'access hollywood tape': 62,\n",
              " 'blister': 1536,\n",
              " 'blister trump': 1538,\n",
              " 'job tweet': 8606,\n",
              " 'wreck': 19839,\n",
              " 'yell': 19903,\n",
              " 'magazin': 9718,\n",
              " 'time magazin': 16819,\n",
              " 'call trump': 2273,\n",
              " 'trump lie': 17769,\n",
              " 'call trump lie': 2278,\n",
              " 'humili': 7860,\n",
              " 'award': 1006,\n",
              " 'humili trump': 7876,\n",
              " 'ivanka': 8459,\n",
              " 'malia': 9779,\n",
              " 'dad': 4095,\n",
              " 'malia obama': 9780,\n",
              " 'obama attack': 11208,\n",
              " 'launch': 9156,\n",
              " 'conspiraci': 3577,\n",
              " 'theori': 16681,\n",
              " 'boot': 1646,\n",
              " 'foot': 6252,\n",
              " 'conspiraci theori': 3579,\n",
              " 'gay': 6519,\n",
              " 'oper': 11547,\n",
              " 'endors': 5375,\n",
              " 'bigot': 1365,\n",
              " 'gop oper': 6776,\n",
              " 'moor senat': 10507,\n",
              " 'roy moor senat': 14195,\n",
              " 'moor senat race': 10508,\n",
              " 'high': 7384,\n",
              " 'school': 14624,\n",
              " 'cheerlead': 2657,\n",
              " 'high school': 7391,\n",
              " 'york': 19923,\n",
              " 'report': 13633,\n",
              " 'actual': 123,\n",
              " 'congress': 3486,\n",
              " 'york time': 19935,\n",
              " 'time report': 16824,\n",
              " 'russian agent': 14328,\n",
              " 'york time report': 19937,\n",
              " 'ban': 1097,\n",
              " 'simmon': 15259,\n",
              " 'life': 9467,\n",
              " 'harass': 7159,\n",
              " 'staff': 15697,\n",
              " 'camera': 2298,\n",
              " 'fox news': 6333,\n",
              " 'nicol': 10898,\n",
              " 'wallac': 19087,\n",
              " 'woodsh': 19749,\n",
              " 'back': 1030,\n",
              " 'watch nicol': 19280,\n",
              " 'nicol wallac': 10899,\n",
              " 'trump woodsh': 18405,\n",
              " 'watch nicol wallac': 19281,\n",
              " 'take trump woodsh': 16293,\n",
              " 'pastor': 11935,\n",
              " 'qaeda': 13094,\n",
              " 'secur': 14736,\n",
              " 'advis': 190,\n",
              " 'reportedli': 13666,\n",
              " 'trump nation': 17878,\n",
              " 'nation secur': 10759,\n",
              " 'secur advis': 14737,\n",
              " 'trump nation secur': 17879,\n",
              " 'nation secur advis': 10760,\n",
              " 'favorit': 5903,\n",
              " 'channel': 2602,\n",
              " 'sooth': 15504,\n",
              " 'batter': 1205,\n",
              " 'ego': 5211,\n",
              " 'cleaner': 2949,\n",
              " 'trump favorit': 17473,\n",
              " 'texa': 16649,\n",
              " 'governor': 6866,\n",
              " 'broke': 1867,\n",
              " 'unpreced': 18676,\n",
              " 'texa governor': 16657,\n",
              " 'conserv': 3538,\n",
              " 'christian': 2804,\n",
              " 'sexual': 15058,\n",
              " 'assault': 859,\n",
              " 'secret': 14706,\n",
              " 'lawmak': 9188,\n",
              " 'conserv christian': 3543,\n",
              " 'christian leader': 2808,\n",
              " 'sexual assault': 15060,\n",
              " 'republican lawmak': 13737,\n",
              " 'conserv christian leader': 3544,\n",
              " 'caught': 2498,\n",
              " 'hot': 7684,\n",
              " 'mic': 10238,\n",
              " 'senat caught': 14817,\n",
              " 'caught hot': 2501,\n",
              " 'hot mic': 7686,\n",
              " 'trump video': 18358,\n",
              " 'caught hot mic': 2502,\n",
              " 'donald trump video': 5007,\n",
              " 'countri': 3756,\n",
              " 'reput': 13837,\n",
              " 'trump destroy': 17356,\n",
              " 'donald trump destroy': 4984,\n",
              " 'ssi': 15690,\n",
              " 'hand': 7130,\n",
              " 'zealand': 19960,\n",
              " 'prime': 12764,\n",
              " 'minist': 10340,\n",
              " 'prime minist': 12765,\n",
              " 'chao': 2607,\n",
              " 'ensu': 5415,\n",
              " 'man': 9792,\n",
              " 'accident': 65,\n",
              " 'shoot': 15149,\n",
              " 'wife': 19597,\n",
              " 'church': 2830,\n",
              " 'gun': 7030,\n",
              " 'talk': 16300,\n",
              " 'accident shoot': 69,\n",
              " 'gun safeti': 7049,\n",
              " 'mall': 9783,\n",
              " 'mall video': 9785,\n",
              " 'hard': 7171,\n",
              " 'troll hard': 17057,\n",
              " 'admin': 137,\n",
              " 'toss': 16893,\n",
              " 'rule': 14209,\n",
              " 'son': 15489,\n",
              " 'wors': 19794,\n",
              " 'douchebag': 5034,\n",
              " 'trump admin': 17091,\n",
              " 'obama rule': 11348,\n",
              " 'light': 9482,\n",
              " 'pentagon': 12051,\n",
              " 'trump resign': 18063,\n",
              " 'bust': 2044,\n",
              " 'inappropri': 8092,\n",
              " 'relat': 13531,\n",
              " 'anti gay': 629,\n",
              " 'gop rep': 6788,\n",
              " 'man state': 9821,\n",
              " 'gop rep bust': 6789,\n",
              " 'marco': 9876,\n",
              " 'rubio': 14199,\n",
              " 'drink': 5070,\n",
              " 'water': 19349,\n",
              " 'haunt': 7267,\n",
              " 'time trump': 16826,\n",
              " 'trump mock': 17855,\n",
              " 'marco rubio': 9877,\n",
              " 'corpor': 3698,\n",
              " 'shock': 15139,\n",
              " 'econom': 5175,\n",
              " 'truth': 18423,\n",
              " 'cut': 4056,\n",
              " 'shock trump': 15143,\n",
              " 'trump econom': 17388,\n",
              " 'econom advis': 5176,\n",
              " 'gop tax': 6808,\n",
              " 'tax cut': 16370,\n",
              " 'trump econom advis': 17389,\n",
              " 'jail': 8469,\n",
              " 'truck': 17066,\n",
              " 'owner': 11678,\n",
              " 'sticker': 15892,\n",
              " 'screenshot': 14667,\n",
              " 'sheriff threaten': 15125,\n",
              " 'anti trump': 649,\n",
              " 'delusion': 4394,\n",
              " 'fact': 5730,\n",
              " 'uranium': 18713,\n",
              " 'deal': 4204,\n",
              " 'delusion trump': 4397,\n",
              " 'trump fan': 17462,\n",
              " 'uranium deal': 18714,\n",
              " 'extremist': 5690,\n",
              " 'support republican': 16122,\n",
              " 'republican lose': 13741,\n",
              " 'stori': 15919,\n",
              " 'press': 12712,\n",
              " 'air': 286,\n",
              " 'forc': 6257,\n",
              " 'stori trump': 15924,\n",
              " 'trump told': 18294,\n",
              " 'air forc': 290,\n",
              " 'pervert': 12121,\n",
              " 'year tweet': 19897,\n",
              " 'oop': 11521,\n",
              " 'judici': 8780,\n",
              " 'nomine': 10941,\n",
              " 'marriag': 9895,\n",
              " 'attorney': 950,\n",
              " 'oop trump': 11523,\n",
              " 'trump judici': 17700,\n",
              " 'judici nomine': 8781,\n",
              " 'trump judici nomine': 17701,\n",
              " 'laugh': 9146,\n",
              " 'philippin': 12144,\n",
              " 'journalist': 8693,\n",
              " 'spi': 15629,\n",
              " 'routin': 14188,\n",
              " 'murder': 10614,\n",
              " 'trump laugh': 17740,\n",
              " 'philippin leader': 12146,\n",
              " 'leader call': 9261,\n",
              " 'call journalist': 2188,\n",
              " 'biden': 1336,\n",
              " 'watch joe': 19233,\n",
              " 'joe biden': 8613,\n",
              " 'wreck trump': 19840,\n",
              " 'trump hilari': 17597,\n",
              " 'watch joe biden': 19234,\n",
              " 'document': 4942,\n",
              " 'launder': 9160,\n",
              " 'bank': 1128,\n",
              " 'russian bank': 14330,\n",
              " 'corner': 3693,\n",
              " 'lobbyist': 9555,\n",
              " 'rage': 13191,\n",
              " 'colleagu': 3274,\n",
              " 'date': 4150,\n",
              " 'teenag': 16462,\n",
              " 'teenag girl': 16463,\n",
              " 'condemn': 3442,\n",
              " 'nazi': 10786,\n",
              " 'misconduct': 10363,\n",
              " 'support nazi': 16113,\n",
              " 'sexual misconduct': 15067,\n",
              " 'leader defend': 9264,\n",
              " 'gop candid': 6725,\n",
              " 'intellig': 8235,\n",
              " 'commun': 3390,\n",
              " 'bu': 1906,\n",
              " 'strong': 15969,\n",
              " 'evid': 5557,\n",
              " 'meddl': 9996,\n",
              " 'trump throw': 18288,\n",
              " 'intellig commun': 8241,\n",
              " 'russian meddl': 14363,\n",
              " 'mike': 10281,\n",
              " 'penc': 12028,\n",
              " 'uncomfort': 18589,\n",
              " 'maga': 9716,\n",
              " 'grope': 6982,\n",
              " 'mike penc': 10284,\n",
              " 'consensu': 3535,\n",
              " 'newsweek': 10879,\n",
              " 'cover': 3825,\n",
              " 'freak': 6382,\n",
              " 'pedophilia': 12014,\n",
              " 'bibl': 1329,\n",
              " 'alabama republican': 315,\n",
              " 'republican defend': 13700,\n",
              " 'turn': 18466,\n",
              " 'disgust': 4861,\n",
              " 'gop senat candid': 6798,\n",
              " 'sneak': 15431,\n",
              " 'unravel': 18679,\n",
              " 'administr': 138,\n",
              " 'senat democrat': 14835,\n",
              " 'trump administr': 17092,\n",
              " 'sunday': 16069,\n",
              " 'massacr': 9922,\n",
              " 'bump': 1948,\n",
              " 'columbin': 3304,\n",
              " 'deadliest': 4199,\n",
              " 'mass': 9914,\n",
              " 'mass shoot': 9918,\n",
              " 'bare': 1160,\n",
              " 'spend': 15619,\n",
              " 'second': 14703,\n",
              " 'revisit': 14005,\n",
              " 'victori': 18820,\n",
              " 'trump victori': 18357,\n",
              " 'main': 9733,\n",
              " 'expand': 5612,\n",
              " 'medicaid': 10034,\n",
              " 'voter trump': 19033,\n",
              " 'trump ck': 17258,\n",
              " 'rick': 14035,\n",
              " 'santorum': 14544,\n",
              " 'torch': 16884,\n",
              " 'elector': 5282,\n",
              " 'bloodbath': 1561,\n",
              " 'rick santorum': 14037,\n",
              " 'torch trump': 16885,\n",
              " 'trump not': 17891,\n",
              " 'seeth': 14784,\n",
              " 'virginia': 18900,\n",
              " 'trump seeth': 18125,\n",
              " 'resist': 13858,\n",
              " 'huge': 7838,\n",
              " 'trump huge': 17625,\n",
              " 'huge ck': 7840,\n",
              " 'elect night': 5256,\n",
              " 'justic': 8802,\n",
              " 'dept': 4653,\n",
              " 'realiz': 13373,\n",
              " 'prosecut': 12900,\n",
              " 'woman': 19715,\n",
              " 'stupid': 16005,\n",
              " 'case': 2463,\n",
              " 'trump justic': 17703,\n",
              " 'justic dept': 8806,\n",
              " 'promot': 12877,\n",
              " 'day': 4165,\n",
              " 'war': 19097,\n",
              " 'trump openli': 17908,\n",
              " 'war video': 19110,\n",
              " 'agre': 245,\n",
              " 'treat': 17026,\n",
              " 'milk': 10319,\n",
              " 'trump agre': 17109,\n",
              " 'unexpect': 18615,\n",
              " 'answer': 606,\n",
              " 'furiou': 6474,\n",
              " 'answer ask': 607,\n",
              " 'ask trump': 841,\n",
              " 'trump republican': 18059,\n",
              " 'republican furiou': 13716,\n",
              " 'facebook': 5720,\n",
              " 'person': 12112,\n",
              " 'info': 8166,\n",
              " 'critic': 3904,\n",
              " 'trump facebook': 17454,\n",
              " 'multipl': 10605,\n",
              " 'pee': 12015,\n",
              " 'real': 13346,\n",
              " 'transform': 16971,\n",
              " 'safe': 14419,\n",
              " 'space': 15552,\n",
              " 'fragil': 6352,\n",
              " 'safe space': 14421,\n",
              " 'tell': 16476,\n",
              " 'japanes': 8498,\n",
              " 'diplomat': 4793,\n",
              " 'trump tell': 18270,\n",
              " 'latest': 9125,\n",
              " 'god': 6659,\n",
              " 'prayer': 12584,\n",
              " 'let': 9369,\n",
              " 'shot': 15176,\n",
              " 'univers': 18653,\n",
              " 'polic': 12354,\n",
              " 'kick': 8900,\n",
              " 'campu': 2369,\n",
              " 'troubl': 17062,\n",
              " 'lawyer': 9226,\n",
              " 'bomb': 1603,\n",
              " 'direct': 4798,\n",
              " 'pay': 11974,\n",
              " 'play': 12285,\n",
              " 'attempt': 937,\n",
              " 'russian lawyer': 14357,\n",
              " 'lawyer drop': 9229,\n",
              " 'drop bomb': 5079,\n",
              " 'trump alleg': 17118,\n",
              " 'pay play': 11980,\n",
              " 'claim': 2901,\n",
              " 'women': 19727,\n",
              " 'babi': 1023,\n",
              " 'economi': 5183,\n",
              " 'watch republican': 19300,\n",
              " 'watch republican lawmak': 19301,\n",
              " 'cash': 2470,\n",
              " 'antifa': 663,\n",
              " 'field': 6023,\n",
              " 'field day': 6024,\n",
              " 'deliv': 4380,\n",
              " 'scath': 14610,\n",
              " 'deliv scath': 4387,\n",
              " 'scath rebuk': 14614,\n",
              " 'deliv scath rebuk': 4388,\n",
              " 'remind': 13584,\n",
              " 'classic': 2933,\n",
              " 'shoot trump': 15156,\n",
              " 'trump respons': 18066,\n",
              " 'japan': 8489,\n",
              " 'missil': 10380,\n",
              " 'work': 19755,\n",
              " 'trump japan': 17680,\n",
              " 'wall': 19076,\n",
              " 'close': 3148,\n",
              " 'disgrac': 4859,\n",
              " 'face': 5700,\n",
              " 'indict': 8139,\n",
              " 'team': 16428,\n",
              " 'close trump': 3162,\n",
              " 'waterg': 19355,\n",
              " 'prosecutor': 12901,\n",
              " 'gag': 6491,\n",
              " 'waterg prosecutor': 19356,\n",
              " 'trump russia': 18093,\n",
              " 'link': 9503,\n",
              " 'abort': 15,\n",
              " 'bizarr': 1430,\n",
              " 'horribl': 7655,\n",
              " 'offens': 11460,\n",
              " 'gop lawmak': 6766,\n",
              " 'rant video': 13244,\n",
              " 'hawaiian': 7271,\n",
              " 'perfect': 12082,\n",
              " 'sign': 15229,\n",
              " 'infuri': 8171,\n",
              " 'land': 9101,\n",
              " 'infuri trump': 8172,\n",
              " 'trump land': 17731,\n",
              " 'suprem': 16140,\n",
              " 'punish': 13041,\n",
              " 'trump suprem': 18239,\n",
              " 'suprem court': 16141,\n",
              " 'trump suprem court': 18240,\n",
              " 'hypocrit': 7954,\n",
              " 'predat': 12596,\n",
              " 'hypocrit ivanka': 7956,\n",
              " 'ivanka trump': 8461,\n",
              " 'trump humili': 17627,\n",
              " 'sexual harass': 15064,\n",
              " 'pull': 13023,\n",
              " 'nfl': 10882,\n",
              " 'ad': 124,\n",
              " 'sponsor': 15665,\n",
              " 'special': 15584,\n",
              " 'gift': 6610,\n",
              " 'mail': 9730,\n",
              " 'month': 10490,\n",
              " 'burn': 1969,\n",
              " 'burn video': 1980,\n",
              " 'congressman': 3526,\n",
              " 'constitu': 3585,\n",
              " 'gop congressman': 6736,\n",
              " 'hero': 7372,\n",
              " 'celebr': 2532,\n",
              " 'trump panic': 17921,\n",
              " 'twist': 18500,\n",
              " 'brilliant': 1822,\n",
              " 'energi': 5397,\n",
              " 'secretari': 14719,\n",
              " 'idea': 7985,\n",
              " 'stop': 15914,\n",
              " 'trump energi': 17409,\n",
              " 'energi secretari': 5402,\n",
              " ...}"
            ]
          },
          "metadata": {
            "tags": []
          },
          "execution_count": 23
        }
      ]
    },
    {
      "cell_type": "code",
      "metadata": {
        "id": "I2ia14NyymKO"
      },
      "source": [
        "from sklearn.naive_bayes import MultinomialNB"
      ],
      "id": "I2ia14NyymKO",
      "execution_count": 24,
      "outputs": []
    },
    {
      "cell_type": "code",
      "metadata": {
        "id": "mv7Jwi8Py23z"
      },
      "source": [
        "model=MultinomialNB()\n"
      ],
      "id": "mv7Jwi8Py23z",
      "execution_count": 25,
      "outputs": []
    },
    {
      "cell_type": "code",
      "metadata": {
        "colab": {
          "base_uri": "https://localhost:8080/"
        },
        "id": "ctYWujeUy6x_",
        "outputId": "975527ef-7300-434f-a7b0-a94f41f706e8"
      },
      "source": [
        "model.fit(X_train,df['output'].values)"
      ],
      "id": "ctYWujeUy6x_",
      "execution_count": 26,
      "outputs": [
        {
          "output_type": "execute_result",
          "data": {
            "text/plain": [
              "MultinomialNB(alpha=1.0, class_prior=None, fit_prior=True)"
            ]
          },
          "metadata": {
            "tags": []
          },
          "execution_count": 26
        }
      ]
    },
    {
      "cell_type": "code",
      "metadata": {
        "id": "gTWkRJEJ0Aqi"
      },
      "source": [
        "df_t1 = pd.read_csv('/content/drive/MyDrive/data/FalseTestData.csv')"
      ],
      "id": "gTWkRJEJ0Aqi",
      "execution_count": 27,
      "outputs": []
    },
    {
      "cell_type": "code",
      "metadata": {
        "id": "bLqMiezA0XFK"
      },
      "source": [
        "df_t2 = pd.read_csv('/content/drive/MyDrive/data/TrueTestData.csv')"
      ],
      "id": "bLqMiezA0XFK",
      "execution_count": 28,
      "outputs": []
    },
    {
      "cell_type": "code",
      "metadata": {
        "colab": {
          "base_uri": "https://localhost:8080/"
        },
        "id": "Uiv2Fj0U0k1D",
        "outputId": "f981a616-5eea-4220-fe57-83da191921fd"
      },
      "source": [
        "df_t1['output'] = [\"0\"]*df_t1.shape[0]\n",
        "df_t1.pop('Unnamed: 0')\n",
        "df_t2['output'] = [\"1\"]*df_t2.shape[0]\n",
        "df_t2.pop('Unnamed: 0')"
      ],
      "id": "Uiv2Fj0U0k1D",
      "execution_count": 29,
      "outputs": [
        {
          "output_type": "execute_result",
          "data": {
            "text/plain": [
              "0       15000\n",
              "1       15001\n",
              "2       15002\n",
              "3       15003\n",
              "4       15004\n",
              "        ...  \n",
              "6412    21412\n",
              "6413    21413\n",
              "6414    21414\n",
              "6415    21415\n",
              "6416    21416\n",
              "Name: Unnamed: 0, Length: 6417, dtype: int64"
            ]
          },
          "metadata": {
            "tags": []
          },
          "execution_count": 29
        }
      ]
    },
    {
      "cell_type": "code",
      "metadata": {
        "colab": {
          "base_uri": "https://localhost:8080/"
        },
        "id": "8OtuMHWV1Hs8",
        "outputId": "1271ccae-8595-40fd-9f41-65b3dcf20082"
      },
      "source": [
        "df_t1.pop('date'),df_t2.pop('date')"
      ],
      "id": "8OtuMHWV1Hs8",
      "execution_count": 30,
      "outputs": [
        {
          "output_type": "execute_result",
          "data": {
            "text/plain": [
              "(0           Oct 30, 2015\n",
              " 1           Oct 30, 2015\n",
              " 2           Oct 30, 2015\n",
              " 3           Oct 30, 2015\n",
              " 4           Oct 30, 2015\n",
              "               ...       \n",
              " 8476    January 16, 2016\n",
              " 8477    January 16, 2016\n",
              " 8478    January 15, 2016\n",
              " 8479    January 14, 2016\n",
              " 8480    January 12, 2016\n",
              " Name: date, Length: 8481, dtype: object, 0       November 13, 2017 \n",
              " 1       November 13, 2017 \n",
              " 2       November 12, 2017 \n",
              " 3       November 12, 2017 \n",
              " 4       November 12, 2017 \n",
              "                ...        \n",
              " 6412      August 22, 2017 \n",
              " 6413      August 22, 2017 \n",
              " 6414      August 22, 2017 \n",
              " 6415      August 22, 2017 \n",
              " 6416      August 22, 2017 \n",
              " Name: date, Length: 6417, dtype: object)"
            ]
          },
          "metadata": {
            "tags": []
          },
          "execution_count": 30
        }
      ]
    },
    {
      "cell_type": "code",
      "metadata": {
        "id": "cS1UzcPR1SbE"
      },
      "source": [
        "cleaned_title_false = []\n",
        "for i in range(0, len(df_t1)):\n",
        "    subdata = re.sub('[^a-zA-Z0-9]', ' ', df_t1['title'][i])\n",
        "    subdata = subdata.lower()\n",
        "    subdata = subdata.split()\n",
        "    \n",
        "    subdata = [ps.stem(word) for word in subdata if not word in stop_words]\n",
        "    subdata = ' '.join(subdata)\n",
        "    cleaned_title_false.append(subdata)"
      ],
      "id": "cS1UzcPR1SbE",
      "execution_count": 31,
      "outputs": []
    },
    {
      "cell_type": "code",
      "metadata": {
        "id": "R_xqRk192tYC"
      },
      "source": [
        "false_test = cv.transform(cleaned_title_false).toarray()"
      ],
      "id": "R_xqRk192tYC",
      "execution_count": 32,
      "outputs": []
    },
    {
      "cell_type": "code",
      "metadata": {
        "id": "eHwkxYvt3NbP"
      },
      "source": [
        "cleaned_title_true = []\n",
        "for i in range(0, len(df_t2)):\n",
        "    subdata = re.sub('[^a-zA-Z0-9]', ' ', df_t2['title'][i])\n",
        "    subdata = subdata.lower()\n",
        "    subdata = subdata.split()\n",
        "    \n",
        "    subdata = [ps.stem(word) for word in subdata if not word in stop_words]\n",
        "    subdata = ' '.join(subdata)\n",
        "    cleaned_title_true.append(subdata)"
      ],
      "id": "eHwkxYvt3NbP",
      "execution_count": 33,
      "outputs": []
    },
    {
      "cell_type": "code",
      "metadata": {
        "id": "59VxN_Hk3Xwo"
      },
      "source": [
        "true_test = cv.transform(cleaned_title_true).toarray()"
      ],
      "id": "59VxN_Hk3Xwo",
      "execution_count": 34,
      "outputs": []
    },
    {
      "cell_type": "code",
      "metadata": {
        "id": "BBTVEERH34n7"
      },
      "source": [
        "from sklearn import metrics"
      ],
      "id": "BBTVEERH34n7",
      "execution_count": 35,
      "outputs": []
    },
    {
      "cell_type": "code",
      "metadata": {
        "colab": {
          "base_uri": "https://localhost:8080/"
        },
        "id": "J9KH-rQh3ta_",
        "outputId": "d9aca2ac-8894-49eb-d39a-9d9f2a54059a"
      },
      "source": [
        "pred_false = model.predict(false_test)\n",
        "print(pred_false[:10])"
      ],
      "id": "J9KH-rQh3ta_",
      "execution_count": 36,
      "outputs": [
        {
          "output_type": "stream",
          "text": [
            "['1' '1' '1' '1' '0' '1' '1' '0' '1' '1']\n"
          ],
          "name": "stdout"
        }
      ]
    },
    {
      "cell_type": "code",
      "metadata": {
        "colab": {
          "base_uri": "https://localhost:8080/"
        },
        "id": "GxjIpwrr4GYT",
        "outputId": "d4ed5b3c-afa3-4475-96d6-e06d017e2217"
      },
      "source": [
        "pred_true = model.predict(true_test)\n",
        "print(pred_true[:10])"
      ],
      "id": "GxjIpwrr4GYT",
      "execution_count": 37,
      "outputs": [
        {
          "output_type": "stream",
          "text": [
            "['0' '1' '1' '0' '0' '0' '1' '0' '0' '0']\n"
          ],
          "name": "stdout"
        }
      ]
    },
    {
      "cell_type": "code",
      "metadata": {
        "colab": {
          "base_uri": "https://localhost:8080/"
        },
        "id": "7HZ6m0zm4e1y",
        "outputId": "fad58c48-c703-4381-f3b3-b85de8e3d163"
      },
      "source": [
        "false_score = metrics.accuracy_score(df_t1['output'].values,pred_false)\n",
        "print(false_score)"
      ],
      "id": "7HZ6m0zm4e1y",
      "execution_count": 38,
      "outputs": [
        {
          "output_type": "stream",
          "text": [
            "0.4989977596981488\n"
          ],
          "name": "stdout"
        }
      ]
    },
    {
      "cell_type": "code",
      "metadata": {
        "colab": {
          "base_uri": "https://localhost:8080/"
        },
        "id": "VQzbYEIb4vgc",
        "outputId": "a131b70c-8edf-4309-b295-3042ae61df2d"
      },
      "source": [
        "true_score = metrics.accuracy_score(df_t2['output'].values,pred_true)\n",
        "print(true_score)"
      ],
      "id": "VQzbYEIb4vgc",
      "execution_count": 39,
      "outputs": [
        {
          "output_type": "stream",
          "text": [
            "0.5619448340345956\n"
          ],
          "name": "stdout"
        }
      ]
    }
  ]
}